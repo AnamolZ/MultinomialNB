{
 "cells": [
  {
   "cell_type": "code",
   "execution_count": 8,
   "id": "32902a7b-ff6b-4dcb-bea8-2699461921c0",
   "metadata": {},
   "outputs": [],
   "source": [
    "from sklearn.feature_extraction.text import CountVectorizer\n",
    "from sklearn.naive_bayes import MultinomialNB\n",
    "from sklearn.metrics import accuracy_score, precision_score, recall_score, f1_score\n",
    "import numpy as np"
   ]
  },
  {
   "cell_type": "code",
   "execution_count": 9,
   "id": "4060f4f1-07c6-4811-9f00-7f706483f1ad",
   "metadata": {},
   "outputs": [],
   "source": [
    "train_emails = [\n",
    "    (\"Hello, this is a legitimate email\", \"Not Spam\"),\n",
    "    (\"Get rich quickly! Win a million dollors\", \"Spam\"),\n",
    "    (\"Important meeting tomorrow\", \"Not Spam\"),\n",
    "    (\"Claim your free gift now\", \"Spam\"),\n",
    "    (\"Reminder: Appointment next week\", \"Not Spam\")\n",
    "]"
   ]
  },
  {
   "cell_type": "code",
   "execution_count": 10,
   "id": "930542d9-86f6-4d18-b78f-1f1887d5668a",
   "metadata": {},
   "outputs": [
    {
     "data": {
      "text/plain": [
       "[('Hello, this is a legitimate email', 'Not Spam'),\n",
       " ('Get rich quickly! Win a million dollors', 'Spam'),\n",
       " ('Important meeting tomorrow', 'Not Spam'),\n",
       " ('Claim your free gift now', 'Spam'),\n",
       " ('Reminder: Appointment next week', 'Not Spam')]"
      ]
     },
     "execution_count": 10,
     "metadata": {},
     "output_type": "execute_result"
    }
   ],
   "source": [
    "train_emails"
   ]
  },
  {
   "cell_type": "code",
   "execution_count": 11,
   "id": "597f61bf-c9ca-4e94-925a-e76b4a0b471f",
   "metadata": {},
   "outputs": [],
   "source": [
    "train_text = [email[0] for email in train_emails]\n",
    "train_labels = [email[1] for email in train_emails]"
   ]
  },
  {
   "cell_type": "code",
   "execution_count": 12,
   "id": "296877b3-8093-4ced-a1a5-929d6465950a",
   "metadata": {},
   "outputs": [],
   "source": [
    "vectorizer = CountVectorizer()\n",
    "X_train = vectorizer.fit_transform(train_text)"
   ]
  },
  {
   "cell_type": "code",
   "execution_count": 13,
   "id": "9d55f7b2-a10a-473e-bc88-3155f27f0325",
   "metadata": {},
   "outputs": [
    {
     "data": {
      "text/html": [
       "<style>#sk-container-id-2 {color: black;}#sk-container-id-2 pre{padding: 0;}#sk-container-id-2 div.sk-toggleable {background-color: white;}#sk-container-id-2 label.sk-toggleable__label {cursor: pointer;display: block;width: 100%;margin-bottom: 0;padding: 0.3em;box-sizing: border-box;text-align: center;}#sk-container-id-2 label.sk-toggleable__label-arrow:before {content: \"▸\";float: left;margin-right: 0.25em;color: #696969;}#sk-container-id-2 label.sk-toggleable__label-arrow:hover:before {color: black;}#sk-container-id-2 div.sk-estimator:hover label.sk-toggleable__label-arrow:before {color: black;}#sk-container-id-2 div.sk-toggleable__content {max-height: 0;max-width: 0;overflow: hidden;text-align: left;background-color: #f0f8ff;}#sk-container-id-2 div.sk-toggleable__content pre {margin: 0.2em;color: black;border-radius: 0.25em;background-color: #f0f8ff;}#sk-container-id-2 input.sk-toggleable__control:checked~div.sk-toggleable__content {max-height: 200px;max-width: 100%;overflow: auto;}#sk-container-id-2 input.sk-toggleable__control:checked~label.sk-toggleable__label-arrow:before {content: \"▾\";}#sk-container-id-2 div.sk-estimator input.sk-toggleable__control:checked~label.sk-toggleable__label {background-color: #d4ebff;}#sk-container-id-2 div.sk-label input.sk-toggleable__control:checked~label.sk-toggleable__label {background-color: #d4ebff;}#sk-container-id-2 input.sk-hidden--visually {border: 0;clip: rect(1px 1px 1px 1px);clip: rect(1px, 1px, 1px, 1px);height: 1px;margin: -1px;overflow: hidden;padding: 0;position: absolute;width: 1px;}#sk-container-id-2 div.sk-estimator {font-family: monospace;background-color: #f0f8ff;border: 1px dotted black;border-radius: 0.25em;box-sizing: border-box;margin-bottom: 0.5em;}#sk-container-id-2 div.sk-estimator:hover {background-color: #d4ebff;}#sk-container-id-2 div.sk-parallel-item::after {content: \"\";width: 100%;border-bottom: 1px solid gray;flex-grow: 1;}#sk-container-id-2 div.sk-label:hover label.sk-toggleable__label {background-color: #d4ebff;}#sk-container-id-2 div.sk-serial::before {content: \"\";position: absolute;border-left: 1px solid gray;box-sizing: border-box;top: 0;bottom: 0;left: 50%;z-index: 0;}#sk-container-id-2 div.sk-serial {display: flex;flex-direction: column;align-items: center;background-color: white;padding-right: 0.2em;padding-left: 0.2em;position: relative;}#sk-container-id-2 div.sk-item {position: relative;z-index: 1;}#sk-container-id-2 div.sk-parallel {display: flex;align-items: stretch;justify-content: center;background-color: white;position: relative;}#sk-container-id-2 div.sk-item::before, #sk-container-id-2 div.sk-parallel-item::before {content: \"\";position: absolute;border-left: 1px solid gray;box-sizing: border-box;top: 0;bottom: 0;left: 50%;z-index: -1;}#sk-container-id-2 div.sk-parallel-item {display: flex;flex-direction: column;z-index: 1;position: relative;background-color: white;}#sk-container-id-2 div.sk-parallel-item:first-child::after {align-self: flex-end;width: 50%;}#sk-container-id-2 div.sk-parallel-item:last-child::after {align-self: flex-start;width: 50%;}#sk-container-id-2 div.sk-parallel-item:only-child::after {width: 0;}#sk-container-id-2 div.sk-dashed-wrapped {border: 1px dashed gray;margin: 0 0.4em 0.5em 0.4em;box-sizing: border-box;padding-bottom: 0.4em;background-color: white;}#sk-container-id-2 div.sk-label label {font-family: monospace;font-weight: bold;display: inline-block;line-height: 1.2em;}#sk-container-id-2 div.sk-label-container {text-align: center;}#sk-container-id-2 div.sk-container {/* jupyter's `normalize.less` sets `[hidden] { display: none; }` but bootstrap.min.css set `[hidden] { display: none !important; }` so we also need the `!important` here to be able to override the default hidden behavior on the sphinx rendered scikit-learn.org. See: https://github.com/scikit-learn/scikit-learn/issues/21755 */display: inline-block !important;position: relative;}#sk-container-id-2 div.sk-text-repr-fallback {display: none;}</style><div id=\"sk-container-id-2\" class=\"sk-top-container\"><div class=\"sk-text-repr-fallback\"><pre>MultinomialNB()</pre><b>In a Jupyter environment, please rerun this cell to show the HTML representation or trust the notebook. <br />On GitHub, the HTML representation is unable to render, please try loading this page with nbviewer.org.</b></div><div class=\"sk-container\" hidden><div class=\"sk-item\"><div class=\"sk-estimator sk-toggleable\"><input class=\"sk-toggleable__control sk-hidden--visually\" id=\"sk-estimator-id-2\" type=\"checkbox\" checked><label for=\"sk-estimator-id-2\" class=\"sk-toggleable__label sk-toggleable__label-arrow\">MultinomialNB</label><div class=\"sk-toggleable__content\"><pre>MultinomialNB()</pre></div></div></div></div></div>"
      ],
      "text/plain": [
       "MultinomialNB()"
      ]
     },
     "execution_count": 13,
     "metadata": {},
     "output_type": "execute_result"
    }
   ],
   "source": [
    "classifier = MultinomialNB()\n",
    "classifier.fit(X_train, train_labels)"
   ]
  },
  {
   "cell_type": "code",
   "execution_count": 14,
   "id": "446f9056-6406-4e92-8e0d-3f3791c2c12d",
   "metadata": {},
   "outputs": [
    {
     "name": "stdin",
     "output_type": "stream",
     "text": [
      "Enter an Email text for testing:  Hey How Are You ?\n"
     ]
    }
   ],
   "source": [
    "user_input = input(\"Enter an Email text for testing: \")\n",
    "user_input_vectorized = vectorizer.transform([user_input])"
   ]
  },
  {
   "cell_type": "code",
   "execution_count": 15,
   "id": "41d1b145-d866-4d51-bb2b-765ea54e6c21",
   "metadata": {},
   "outputs": [],
   "source": [
    "predicted_label = classifier.predict(user_input_vectorized)"
   ]
  },
  {
   "cell_type": "code",
   "execution_count": 16,
   "id": "4a68ef3f-5f06-4697-8280-7b0ffa4e89fd",
   "metadata": {},
   "outputs": [],
   "source": [
    "test_emails = [(user_input, predicted_label[0])]"
   ]
  },
  {
   "cell_type": "code",
   "execution_count": 17,
   "id": "363a95a2-dddd-436b-928b-baea7a882000",
   "metadata": {},
   "outputs": [],
   "source": [
    "test_text = [email[0] for email in test_emails]\n",
    "test_labels = [email[1] for email in test_emails]"
   ]
  },
  {
   "cell_type": "code",
   "execution_count": 18,
   "id": "2dad2087-ddfd-4728-9a3c-3a96d65d361c",
   "metadata": {},
   "outputs": [],
   "source": [
    "X_test = vectorizer.transform(test_text)\n",
    "predicted_labels = classifier.predict(X_test)"
   ]
  },
  {
   "cell_type": "code",
   "execution_count": 19,
   "id": "87ab3600-f741-430a-af93-18a296c5ac65",
   "metadata": {},
   "outputs": [
    {
     "name": "stderr",
     "output_type": "stream",
     "text": [
      "C:\\Users\\anmol\\AppData\\Local\\Programs\\Python\\Python311\\Lib\\site-packages\\sklearn\\metrics\\_classification.py:1469: UndefinedMetricWarning: Precision is ill-defined and being set to 0.0 due to no predicted samples. Use `zero_division` parameter to control this behavior.\n",
      "  _warn_prf(average, modifier, msg_start, len(result))\n",
      "C:\\Users\\anmol\\AppData\\Local\\Programs\\Python\\Python311\\Lib\\site-packages\\sklearn\\metrics\\_classification.py:1469: UndefinedMetricWarning: Recall is ill-defined and being set to 0.0 due to no true samples. Use `zero_division` parameter to control this behavior.\n",
      "  _warn_prf(average, modifier, msg_start, len(result))\n",
      "C:\\Users\\anmol\\AppData\\Local\\Programs\\Python\\Python311\\Lib\\site-packages\\sklearn\\metrics\\_classification.py:1757: UndefinedMetricWarning: F-score is ill-defined and being set to 0.0 due to no true nor predicted samples. Use `zero_division` parameter to control this behavior.\n",
      "  _warn_prf(average, \"true nor predicted\", \"F-score is\", len(true_sum))\n"
     ]
    }
   ],
   "source": [
    "precision = precision_score(test_labels, predicted_labels, pos_label = \"spam\")\n",
    "recall = recall_score(test_labels, predicted_labels, pos_label = \"Spam\")\n",
    "accuracy = accuracy_score(test_labels, predicted_labels)\n",
    "f1 = f1_score(test_labels, predicted_labels, pos_label = \"Spam\")"
   ]
  },
  {
   "cell_type": "code",
   "execution_count": 20,
   "id": "736794f1-813f-4fa7-ad5c-f0a8039994d3",
   "metadata": {},
   "outputs": [
    {
     "name": "stdout",
     "output_type": "stream",
     "text": [
      "Predicted Label: Not Spam\n",
      "Precision:  0.0\n",
      "Recall: 0.0\n",
      "Accuracy: 1.0\n",
      "F1_Measure_Score: 0.0\n"
     ]
    }
   ],
   "source": [
    "print(\"Predicted Label:\", predicted_label[0])\n",
    "print(\"Precision: \", precision)\n",
    "print(\"Recall:\",recall)\n",
    "print(\"Accuracy:\", accuracy)\n",
    "print(\"F1_Measure_Score:\", f1)"
   ]
  },
  {
   "cell_type": "code",
   "execution_count": null,
   "id": "85437e40-06b9-4fef-9b04-649aad9568d9",
   "metadata": {},
   "outputs": [],
   "source": []
  }
 ],
 "metadata": {
  "kernelspec": {
   "display_name": "Python 3 (ipykernel)",
   "language": "python",
   "name": "python3"
  },
  "language_info": {
   "codemirror_mode": {
    "name": "ipython",
    "version": 3
   },
   "file_extension": ".py",
   "mimetype": "text/x-python",
   "name": "python",
   "nbconvert_exporter": "python",
   "pygments_lexer": "ipython3",
   "version": "3.11.4"
  }
 },
 "nbformat": 4,
 "nbformat_minor": 5
}
